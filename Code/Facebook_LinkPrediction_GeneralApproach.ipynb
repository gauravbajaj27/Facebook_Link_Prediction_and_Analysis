{
  "nbformat": 4,
  "nbformat_minor": 0,
  "metadata": {
    "colab": {
      "name": "Facebook_LinkPrediction_GeneralApproach.ipynb",
      "provenance": [],
      "collapsed_sections": []
    },
    "kernelspec": {
      "name": "python3",
      "display_name": "Python 3"
    },
    "language_info": {
      "name": "python"
    }
  },
  "cells": [
    {
      "cell_type": "code",
      "source": [
        "# importing required modules\n",
        "from zipfile import ZipFile\n",
        "\n",
        "# specifying the zip file name\n",
        "file_name = \"facebook.zip\"\n",
        "\n",
        "# opening the zip file in READ mode\n",
        "with ZipFile(file_name, 'r') as zip:\n",
        "\t# printing all the contents of the zip file\n",
        "\tzip.printdir()\n",
        "\n",
        "\t# extracting all the files\n",
        "\tprint('Extracting all the files now...')\n",
        "\tzip.extractall()\n",
        "\tprint('Done!')"
      ],
      "metadata": {
        "id": "RaSbiX2HZCCF",
        "colab": {
          "base_uri": "https://localhost:8080/"
        },
        "outputId": "45fe2280-c354-4da1-fc2a-63b0e5d3f771"
      },
      "execution_count": 1,
      "outputs": [
        {
          "output_type": "stream",
          "name": "stdout",
          "text": [
            "File Name                                             Modified             Size\n",
            "facebook/facebook_combined/                    2022-04-27 19:04:18            0\n",
            "facebook/facebook_combined/facebook_combined.txt 2013-07-16 09:35:30       854362\n",
            "facebook/facebook_main/                        2022-04-27 19:04:18            0\n",
            "facebook/facebook_main/0.circles               2012-12-03 08:45:00         1400\n",
            "facebook/facebook_main/0.edges                 2012-12-03 08:45:00        37228\n",
            "facebook/facebook_main/0.egofeat               2012-12-03 08:45:00          448\n",
            "facebook/facebook_main/0.feat                  2012-12-03 08:45:00       156736\n",
            "facebook/facebook_main/0.featnames             2012-12-03 08:45:00         9303\n",
            "facebook/facebook_main/107.circles             2012-12-03 08:45:00         2510\n",
            "facebook/facebook_main/107.edges               2012-12-03 08:45:00       523802\n",
            "facebook/facebook_main/107.egofeat             2012-12-03 08:45:00         1152\n",
            "facebook/facebook_main/107.feat                2012-12-03 08:45:00      1208929\n",
            "facebook/facebook_main/107.featnames           2012-12-03 08:45:00        25125\n",
            "facebook/facebook_main/1684.circles            2012-12-03 08:45:00         4022\n",
            "facebook/facebook_main/1684.edges              2012-12-03 08:45:00       280354\n",
            "facebook/facebook_main/1684.egofeat            2012-12-03 08:45:00          638\n",
            "facebook/facebook_main/1684.feat               2012-12-03 08:45:00       509250\n",
            "facebook/facebook_main/1684.featnames          2012-12-03 08:45:00        13568\n",
            "facebook/facebook_main/1912.circles            2012-12-03 08:45:00         5716\n",
            "facebook/facebook_main/1912.edges              2012-12-03 08:45:00       600274\n",
            "facebook/facebook_main/1912.egofeat            2012-12-03 08:45:00          960\n",
            "facebook/facebook_main/1912.feat               2012-12-03 08:45:00       728570\n",
            "facebook/facebook_main/1912.featnames          2012-12-03 08:45:00        20993\n",
            "facebook/facebook_main/3437.circles            2012-12-03 08:45:00         1238\n",
            "facebook/facebook_main/3437.edges              2012-12-03 08:45:00        96188\n",
            "facebook/facebook_main/3437.egofeat            2012-12-03 08:45:00          524\n",
            "facebook/facebook_main/3437.feat               2012-12-03 08:45:00       289359\n",
            "facebook/facebook_main/3437.featnames          2012-12-03 08:45:00        11230\n",
            "facebook/facebook_main/348.circles             2012-12-03 08:45:00         2382\n",
            "facebook/facebook_main/348.edges               2012-12-03 08:45:00        51066\n",
            "facebook/facebook_main/348.egofeat             2012-12-03 08:45:00          322\n",
            "facebook/facebook_main/348.feat                2012-12-03 08:45:00        74001\n",
            "facebook/facebook_main/348.featnames           2012-12-03 08:45:00         6801\n",
            "facebook/facebook_main/3980.circles            2012-12-03 08:45:00          432\n",
            "facebook/facebook_main/3980.edges              2012-12-03 08:45:00         2914\n",
            "facebook/facebook_main/3980.egofeat            2012-12-03 08:45:00           84\n",
            "facebook/facebook_main/3980.feat               2012-12-03 08:45:00         5250\n",
            "facebook/facebook_main/3980.featnames          2012-12-03 08:45:00         1718\n",
            "facebook/facebook_main/414.circles             2012-12-03 08:45:00          768\n",
            "facebook/facebook_main/414.edges               2012-12-03 08:45:00        27082\n",
            "facebook/facebook_main/414.egofeat             2012-12-03 08:45:00          210\n",
            "facebook/facebook_main/414.feat                2012-12-03 08:45:00        34025\n",
            "facebook/facebook_main/414.featnames           2012-12-03 08:45:00         4397\n",
            "facebook/facebook_main/686.circles             2012-12-03 08:45:00         2056\n",
            "facebook/facebook_main/686.edges               2012-12-03 08:45:00        26496\n",
            "facebook/facebook_main/686.egofeat             2012-12-03 08:45:00          126\n",
            "facebook/facebook_main/686.feat                2012-12-03 08:45:00        22100\n",
            "facebook/facebook_main/686.featnames           2012-12-03 08:45:00         2578\n",
            "facebook/facebook_main/698.circles             2012-12-03 08:45:00          447\n",
            "facebook/facebook_main/698.edges               2012-12-03 08:45:00         4320\n",
            "facebook/facebook_main/698.egofeat             2012-12-03 08:45:00           96\n",
            "facebook/facebook_main/698.feat                2012-12-03 08:45:00         6600\n",
            "facebook/facebook_main/698.featnames           2012-12-03 08:45:00         1951\n",
            "Extracting all the files now...\n",
            "Done!\n"
          ]
        }
      ]
    },
    {
      "cell_type": "code",
      "source": [
        "pip install pyvis\n"
      ],
      "metadata": {
        "colab": {
          "base_uri": "https://localhost:8080/"
        },
        "id": "1nEKXCl7VorE",
        "outputId": "0df9513a-ef14-4e07-ef23-551090d92d38"
      },
      "execution_count": 2,
      "outputs": [
        {
          "output_type": "stream",
          "name": "stdout",
          "text": [
            "Collecting pyvis\n",
            "  Downloading pyvis-0.2.0.tar.gz (21 kB)\n",
            "Requirement already satisfied: jinja2>=2.9.6 in /usr/local/lib/python3.7/dist-packages (from pyvis) (2.11.3)\n",
            "Requirement already satisfied: networkx>=1.11 in /usr/local/lib/python3.7/dist-packages (from pyvis) (2.6.3)\n",
            "Requirement already satisfied: ipython>=5.3.0 in /usr/local/lib/python3.7/dist-packages (from pyvis) (5.5.0)\n",
            "Collecting jsonpickle>=1.4.1\n",
            "  Downloading jsonpickle-2.1.0-py2.py3-none-any.whl (38 kB)\n",
            "Requirement already satisfied: decorator in /usr/local/lib/python3.7/dist-packages (from ipython>=5.3.0->pyvis) (4.4.2)\n",
            "Requirement already satisfied: traitlets>=4.2 in /usr/local/lib/python3.7/dist-packages (from ipython>=5.3.0->pyvis) (5.1.1)\n",
            "Requirement already satisfied: setuptools>=18.5 in /usr/local/lib/python3.7/dist-packages (from ipython>=5.3.0->pyvis) (57.4.0)\n",
            "Requirement already satisfied: pickleshare in /usr/local/lib/python3.7/dist-packages (from ipython>=5.3.0->pyvis) (0.7.5)\n",
            "Requirement already satisfied: prompt-toolkit<2.0.0,>=1.0.4 in /usr/local/lib/python3.7/dist-packages (from ipython>=5.3.0->pyvis) (1.0.18)\n",
            "Requirement already satisfied: pygments in /usr/local/lib/python3.7/dist-packages (from ipython>=5.3.0->pyvis) (2.6.1)\n",
            "Requirement already satisfied: simplegeneric>0.8 in /usr/local/lib/python3.7/dist-packages (from ipython>=5.3.0->pyvis) (0.8.1)\n",
            "Requirement already satisfied: pexpect in /usr/local/lib/python3.7/dist-packages (from ipython>=5.3.0->pyvis) (4.8.0)\n",
            "Requirement already satisfied: MarkupSafe>=0.23 in /usr/local/lib/python3.7/dist-packages (from jinja2>=2.9.6->pyvis) (2.0.1)\n",
            "Requirement already satisfied: importlib-metadata in /usr/local/lib/python3.7/dist-packages (from jsonpickle>=1.4.1->pyvis) (4.11.3)\n",
            "Requirement already satisfied: wcwidth in /usr/local/lib/python3.7/dist-packages (from prompt-toolkit<2.0.0,>=1.0.4->ipython>=5.3.0->pyvis) (0.2.5)\n",
            "Requirement already satisfied: six>=1.9.0 in /usr/local/lib/python3.7/dist-packages (from prompt-toolkit<2.0.0,>=1.0.4->ipython>=5.3.0->pyvis) (1.15.0)\n",
            "Requirement already satisfied: zipp>=0.5 in /usr/local/lib/python3.7/dist-packages (from importlib-metadata->jsonpickle>=1.4.1->pyvis) (3.8.0)\n",
            "Requirement already satisfied: typing-extensions>=3.6.4 in /usr/local/lib/python3.7/dist-packages (from importlib-metadata->jsonpickle>=1.4.1->pyvis) (4.2.0)\n",
            "Requirement already satisfied: ptyprocess>=0.5 in /usr/local/lib/python3.7/dist-packages (from pexpect->ipython>=5.3.0->pyvis) (0.7.0)\n",
            "Building wheels for collected packages: pyvis\n",
            "  Building wheel for pyvis (setup.py) ... \u001b[?25l\u001b[?25hdone\n",
            "  Created wheel for pyvis: filename=pyvis-0.2.0-py3-none-any.whl size=23677 sha256=f212c2bd1c12f96a57c2d9503a95f8e39da2a99b366231861819760bf07a553c\n",
            "  Stored in directory: /root/.cache/pip/wheels/74/ed/a1/9441bf0a9e35efc8351ea92cb62c71c2a604a027b890f970c4\n",
            "Successfully built pyvis\n",
            "Installing collected packages: jsonpickle, pyvis\n",
            "Successfully installed jsonpickle-2.1.0 pyvis-0.2.0\n"
          ]
        }
      ]
    },
    {
      "cell_type": "code",
      "source": [
        "pip install networkx"
      ],
      "metadata": {
        "colab": {
          "base_uri": "https://localhost:8080/"
        },
        "id": "6yzCRVcPOsdm",
        "outputId": "56f3f95d-985d-4aba-d1d6-2b02b7e41060"
      },
      "execution_count": 3,
      "outputs": [
        {
          "output_type": "stream",
          "name": "stdout",
          "text": [
            "Requirement already satisfied: networkx in /usr/local/lib/python3.7/dist-packages (2.6.3)\n"
          ]
        }
      ]
    },
    {
      "cell_type": "code",
      "source": [
        "from pyvis.network import Network\n",
        "import networkx as nx"
      ],
      "metadata": {
        "id": "2rpXSgP0YWZO"
      },
      "execution_count": 4,
      "outputs": []
    },
    {
      "cell_type": "code",
      "source": [
        "def buildGraph(G):\n",
        "    fileName=\"/content/facebook/facebook_combined/facebook_combined.txt\"\n",
        "    f=open(fileName)\n",
        "    line=f.readline()\n",
        "    while(line!=''):\n",
        "      c=(line.split())\n",
        "      G.add_edge(int(c[0]), int(c[1]))\n",
        "      line=f.readline()\n",
        "    f.close()\n"
      ],
      "metadata": {
        "id": "XyivjeR2RQ1Z"
      },
      "execution_count": 5,
      "outputs": []
    },
    {
      "cell_type": "code",
      "source": [
        "def buildGraph_oneEgo(G, ego_center):\n",
        "    fileName=\"/content/facebook/facebook_main/\"+str(ego_center)+\".edges\"\n",
        "    f=open(fileName)\n",
        "    line=f.readline()\n",
        "    while(line!=''):\n",
        "      c=(line.split())\n",
        "      G.add_edge(int(c[0]), int(c[1]))\n",
        "      G.add_edge(ego_center, int(c[0]))\n",
        "      G.add_edge(ego_center, int(c[1]))\n",
        "      line=f.readline()\n",
        "    f.close()\n"
      ],
      "metadata": {
        "id": "45A1JaOPYSA8"
      },
      "execution_count": 6,
      "outputs": []
    },
    {
      "cell_type": "code",
      "source": [
        "def buildGraph_twoEgo(G, ego_center_1, ego_center_2):\n",
        "    fileName=\"/content/facebook/facebook_main/\"+str(ego_center_1)+\".edges\"\n",
        "    f=open(fileName)\n",
        "    line=f.readline()\n",
        "    while(line!=''):\n",
        "      c=(line.split())\n",
        "      G.add_edge(int(c[0]), int(c[1]))\n",
        "      G.add_edge(ego_center_1, int(c[0]))\n",
        "      G.add_edge(ego_center_1, int(c[1]))\n",
        "      line=f.readline()\n",
        "    f.close()\n",
        "    fileName=\"/content/facebook/facebook_main/\"+str(ego_center_2)+\".edges\"\n",
        "    f=open(fileName)\n",
        "    line=f.readline()\n",
        "    while(line!=''):\n",
        "      c=(line.split())\n",
        "      G.add_edge(int(c[0]), int(c[1]))\n",
        "      G.add_edge(ego_center_2, int(c[0]))\n",
        "      G.add_edge(ego_center_2, int(c[1]))\n",
        "      line=f.readline()\n",
        "    f.close()\n"
      ],
      "metadata": {
        "id": "WXBBRg-AL4vT"
      },
      "execution_count": 7,
      "outputs": []
    },
    {
      "cell_type": "code",
      "source": [
        "G = nx.Graph()\n",
        "G_0 = nx.Graph()\n",
        "G_0_107=nx.Graph()"
      ],
      "metadata": {
        "id": "YNlIuUsBSBo-"
      },
      "execution_count": 8,
      "outputs": []
    },
    {
      "cell_type": "code",
      "source": [
        "buildGraph(G)\n",
        "buildGraph_oneEgo(G_0,0)\n",
        "buildGraph_twoEgo(G_0_107,0,107)"
      ],
      "metadata": {
        "id": "mzVZfA3JOoph"
      },
      "execution_count": 9,
      "outputs": []
    },
    {
      "cell_type": "code",
      "source": [
        "def jaccard_coefficient(G,threshold):\n",
        "    Graph_temp=G\n",
        "    for n in Graph_temp:\n",
        "      Graph_temp.nodes[n]['group'] = 1\n",
        "    predictions=nx.jaccard_coefficient(Graph_temp)\n",
        "    count=0\n",
        "    for u,v,p in predictions:\n",
        "      if p>=threshold:\n",
        "        count=count+1 \n",
        "        Graph_temp.nodes[u]['group'] = 10\n",
        "        Graph_temp.nodes[v]['group'] = 10\n",
        "        Graph_temp.add_edge(u,v)\n",
        "    print(\"---Jaccard Coefficient---\")\n",
        "    print(\"Total predictions: \"+str(count))\n",
        "    print(\"Threshold value for probability: \"+str(threshold))\n",
        "    print(\"-------------------------\")\n",
        "    net = Network()\n",
        "    net.from_nx(Graph_temp)\n",
        "    net.show('Graph_Jaccard_coefficient'+str(threshold)+'.html')"
      ],
      "metadata": {
        "id": "_snJHgOeidJM"
      },
      "execution_count": 10,
      "outputs": []
    },
    {
      "cell_type": "code",
      "source": [
        "def preferential_attachment(G,threshold):\n",
        "    Graph_temp=G\n",
        "    for n in Graph_temp:\n",
        "      Graph_temp.nodes[n]['group'] = 1\n",
        "    predictions=nx.preferential_attachment(Graph_temp)\n",
        "    count=0\n",
        "    for u,v,p in predictions:\n",
        "      if p>=threshold:\n",
        "        count=count+1 \n",
        "        Graph_temp.nodes[u]['group'] = 10\n",
        "        Graph_temp.nodes[v]['group'] = 10\n",
        "        Graph_temp.add_edge(u,v)\n",
        "    print(\"---Preferential Attachment---\")\n",
        "    print(\"Total predictions: \"+str(count))\n",
        "    print(\"Threshold value for probability: \"+str(threshold))\n",
        "    print(\"-----------------------------\")\n",
        "    net = Network()\n",
        "    net.from_nx(Graph_temp)\n",
        "    net.show('Graph_Preferential_Attachment'+str(threshold)+'.html')"
      ],
      "metadata": {
        "id": "J-l53VInUTrB"
      },
      "execution_count": 11,
      "outputs": []
    },
    {
      "cell_type": "code",
      "source": [
        "def common_neighbor_centrality(G,threshold):\n",
        "    Graph_temp=G\n",
        "    for n in Graph_temp:\n",
        "      Graph_temp.nodes[n]['group'] = 1\n",
        "    predictions=nx.common_neighbor_centrality(Graph_temp)\n",
        "    count=0\n",
        "    for u,v,p in predictions:\n",
        "      if p>=threshold:\n",
        "        count=count+1 \n",
        "        Graph_temp.nodes[u]['group'] = 10\n",
        "        Graph_temp.nodes[v]['group'] = 10\n",
        "        Graph_temp.add_edge(u,v)\n",
        "    print(\"---Common Neighbor Centrality---\")\n",
        "    print(\"Total predictions: \"+str(count))\n",
        "    print(\"Threshold value for probability: \"+str(threshold))\n",
        "    print(\"-----------------------------\")\n",
        "    net = Network()\n",
        "    net.from_nx(Graph_temp)\n",
        "    net.show('Graph_Common_neighbor_Centrality'+str(threshold)+'.html')"
      ],
      "metadata": {
        "id": "0xeEqdwjX6GJ"
      },
      "execution_count": 12,
      "outputs": []
    },
    {
      "cell_type": "code",
      "source": [
        "def adamic_adar_index(G,threshold):\n",
        "    Graph_temp=G\n",
        "    for n in Graph_temp:\n",
        "      Graph_temp.nodes[n]['group'] = 1\n",
        "    predictions=nx.adamic_adar_index(Graph_temp)\n",
        "    count=0\n",
        "    for u,v,p in predictions:\n",
        "      if p>=threshold:\n",
        "        count=count+1 \n",
        "        Graph_temp.nodes[u]['group'] = 10\n",
        "        Graph_temp.nodes[v]['group'] = 10\n",
        "        Graph_temp.add_edge(u,v)\n",
        "    print(\"---Adamic Adar Index---\")\n",
        "    print(\"Total predictions: \"+str(count))\n",
        "    print(\"Threshold value for probability: \"+str(threshold))\n",
        "    print(\"-----------------------\")\n",
        "    net = Network()\n",
        "    net.from_nx(Graph_temp)\n",
        "    net.show('Graph_adamic_adar_Index'+str(threshold)+'.html')"
      ],
      "metadata": {
        "id": "Ib9tS2pQV0-K"
      },
      "execution_count": 13,
      "outputs": []
    },
    {
      "cell_type": "code",
      "source": [
        "def resource_allocation_index(G,threshold):\n",
        "    Graph_temp=G\n",
        "    for n in Graph_temp:\n",
        "      Graph_temp.nodes[n]['group'] = 1\n",
        "    predictions=nx.resource_allocation_index(Graph_temp)\n",
        "    count=0\n",
        "    for u,v,p in predictions:\n",
        "      if p>=threshold:\n",
        "        count=count+1 \n",
        "        Graph_temp.nodes[u]['group'] = 10\n",
        "        Graph_temp.nodes[v]['group'] = 10\n",
        "        Graph_temp.add_edge(u,v)\n",
        "    print(\"---Resource Allocation Index---\")\n",
        "    print(\"Total predictions: \"+str(count))\n",
        "    print(\"Threshold value for probability: \"+str(threshold))\n",
        "    print(\"-------------------------------\")\n",
        "    net = Network()\n",
        "    net.from_nx(Graph_temp)\n",
        "    net.show('Graph_resource_allocation_index'+str(threshold)+'.html')"
      ],
      "metadata": {
        "id": "ui7GQZwZWddK"
      },
      "execution_count": 14,
      "outputs": []
    },
    {
      "cell_type": "code",
      "source": [
        "nt = Network()\n",
        "nt.from_nx(G)\n",
        "nt.show('Graph_main.html')"
      ],
      "metadata": {
        "id": "o2orr7WxFMLB"
      },
      "execution_count": 18,
      "outputs": []
    },
    {
      "cell_type": "code",
      "source": [
        "jaccard_coefficient(G_0,0.5)\n",
        "jaccard_coefficient(G_0,0.8)\n",
        "# jaccard_coefficient(G_0_107,0.7)\n",
        "\n",
        "preferential_attachment(G_0,0.5)\n",
        "preferential_attachment(G_0,0.8)\n",
        "# preferential_attachment(G_0_107,0.7)\n",
        "\n",
        "common_neighbor_centrality(G_0,0.5)\n",
        "common_neighbor_centrality(G_0,0.8)\n",
        "# common_neighbor_centrality(G_0_107,0.7)\n",
        "\n",
        "adamic_adar_index(G_0,0.5)\n",
        "adamic_adar_index(G_0,0.8)\n",
        "# adamic_adar_index(G_0_107,0.7)\n",
        "\n",
        "resource_allocation_index(G_0,0.5)\n",
        "resource_allocation_index(G_0,0.8)\n",
        "# resource_allocation_index(G_0_107,0.7)\n"
      ],
      "metadata": {
        "id": "LKxz0Yd4FB2f",
        "colab": {
          "base_uri": "https://localhost:8080/"
        },
        "outputId": "71eb5c7a-879d-4ad6-e9bd-407e7056dc59"
      },
      "execution_count": 16,
      "outputs": [
        {
          "output_type": "stream",
          "name": "stdout",
          "text": [
            "---Jaccard Coefficient---\n",
            "Total predictions: 94\n",
            "Threshold value for probability: 0.5\n",
            "-------------------------\n",
            "---Jaccard Coefficient---\n",
            "Total predictions: 1\n",
            "Threshold value for probability: 0.8\n",
            "-------------------------\n",
            "---Preferential Attachment---\n",
            "Total predictions: 52664\n",
            "Threshold value for probability: 0.5\n",
            "-----------------------------\n",
            "---Preferential Attachment---\n",
            "Total predictions: 0\n",
            "Threshold value for probability: 0.8\n",
            "-----------------------------\n",
            "---Common Neighbor Centrality---\n",
            "Total predictions: 0\n",
            "Threshold value for probability: 0.5\n",
            "-----------------------------\n",
            "---Common Neighbor Centrality---\n",
            "Total predictions: 0\n",
            "Threshold value for probability: 0.8\n",
            "-----------------------------\n",
            "---Adamic Adar Index---\n",
            "Total predictions: 0\n",
            "Threshold value for probability: 0.5\n",
            "-----------------------\n",
            "---Adamic Adar Index---\n",
            "Total predictions: 0\n",
            "Threshold value for probability: 0.8\n",
            "-----------------------\n",
            "---Resource Allocation Index---\n",
            "Total predictions: 0\n",
            "Threshold value for probability: 0.5\n",
            "-------------------------------\n",
            "---Resource Allocation Index---\n",
            "Total predictions: 0\n",
            "Threshold value for probability: 0.8\n",
            "-------------------------------\n"
          ]
        }
      ]
    },
    {
      "cell_type": "code",
      "source": [
        "jaccard_coefficient(G_0_107,0.7)"
      ],
      "metadata": {
        "colab": {
          "base_uri": "https://localhost:8080/"
        },
        "id": "FKRDVT1DJW0u",
        "outputId": "f520d870-8034-48dc-f0d2-8e6658533ff8"
      },
      "execution_count": 19,
      "outputs": [
        {
          "output_type": "stream",
          "name": "stdout",
          "text": [
            "---Jaccard Coefficient---\n",
            "Total predictions: 29\n",
            "Threshold value for probability: 0.7\n",
            "-------------------------\n"
          ]
        }
      ]
    }
  ]
}